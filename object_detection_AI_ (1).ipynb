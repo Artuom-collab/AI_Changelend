{
  "cells": [
    {
      "cell_type": "code",
      "execution_count": null,
      "metadata": {
        "id": "wZk6fyBSKcSy"
      },
      "outputs": [],
      "source": [
        "import torch\n",
        "import matplotlib.pyplot as plt\n",
        "import cv2\n",
        "from ultralytics import YOLO\n",
        "from collections import defaultdict\n",
        "\n",
        "# Загрузка модели YOLO\n",
        "model = YOLO(r'runs\\detect\\train7\\weights\\best.pt')\n",
        "\n",
        "# Функция для выполнения предсказания на одном изображении\n",
        "def predict_and_display(image_path, model):\n",
        "    # Загрузка изображения\n",
        "    img = cv2.imread(image_path)\n",
        "    img_rgb = cv2.cvtColor(img, cv2.COLOR_BGR2RGB)\n",
        "\n",
        "    # Выполнение предсказания\n",
        "    results = model(img_rgb)\n",
        "\n",
        "    # Получение bounding boxes, меток и уверенности\n",
        "    boxes = results[0].boxes.data.cpu().numpy()  # Извлечение данных боксов\n",
        "    labels = model.names\n",
        "\n",
        "    # Словарь для подсчета количества объектов каждого класса\n",
        "    class_counts = defaultdict(int)\n",
        "\n",
        "    # Отображение результатов\n",
        "    fig, ax = plt.subplots(1, figsize=(12, 9))\n",
        "    ax.imshow(img_rgb)\n",
        "\n",
        "    for box in boxes:\n",
        "        x_min, y_min, x_max, y_max, conf, class_id = box[:6]\n",
        "        label = labels[int(class_id)]\n",
        "\n",
        "        # Увеличиваем счетчик для текущего класса\n",
        "        class_counts[label] += 1\n",
        "\n",
        "        # Создание bounding box\n",
        "        rect = plt.Rectangle((x_min, y_min), x_max - x_min, y_max - y_min, fill=False, edgecolor='red', linewidth=2)\n",
        "        ax.add_patch(rect)\n",
        "\n",
        "        # Добавление метки\n",
        "        ax.text(x_min, y_min - 10, f\"{label}\", bbox=dict(facecolor='yellow', alpha=0.5), fontsize=12, color='black')\n",
        "\n",
        "    # Вывод количества объектов каждого класса\n",
        "    print(dict(class_counts))\n",
        "\n",
        "    plt.axis('off')\n",
        "    plt.show()\n",
        "\n",
        "# Путь к изображению для предсказания\n",
        "image_path = r'482\\images\\Res\\239.jpg'\n",
        "\n",
        "# Выполнение предсказания и отображение результатов\n",
        "predict_and_display(image_path, model)"
      ]
    }
  ],
  "metadata": {
    "language_info": {
      "name": "python"
    },
    "colab": {
      "provenance": []
    }
  },
  "nbformat": 4,
  "nbformat_minor": 0
}